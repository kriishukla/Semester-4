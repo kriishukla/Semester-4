{
  "cells": [
    {
      "cell_type": "code",
      "execution_count": null,
      "metadata": {
        "colab": {
          "base_uri": "https://localhost:8080/"
        },
        "id": "H_ibBZ3cszfL",
        "outputId": "816a7d25-adc8-408a-c79e-62f1cdda980b"
      },
      "outputs": [],
      "source": []
    },
    {
      "cell_type": "code",
      "execution_count": 13,
      "metadata": {
        "id": "2huB7n4Us9R6"
      },
      "outputs": [],
      "source": [
        "import numpy as np\n",
        "file_path = '/home/krishna/Downloads/mnist.npz'\n",
        "file = np.load(file_path)\n",
        "x_train=file['x_train']\n",
        "y_train=file['y_train']"
      ]
    },
    {
      "cell_type": "code",
      "execution_count": 15,
      "metadata": {
        "id": "LvG0RMqis-6y"
      },
      "outputs": [],
      "source": [
        "X = []\n",
        "Y = []\n",
        "for i in range(y_train.shape[0]):\n",
        "    if y_train[i] == 0:\n",
        "        X.append(x_train[i])\n",
        "        Y.append(-1)\n",
        "    elif y_train[i]==1:\n",
        "        X.append(x_train[i])\n",
        "        Y.append(y_train[i])\n",
        "\n",
        "X = np.array(X)\n",
        "Y = np.array(Y)"
      ]
    },
    {
      "cell_type": "code",
      "execution_count": 16,
      "metadata": {
        "colab": {
          "base_uri": "https://localhost:8080/"
        },
        "id": "fMnC7xNltDg6",
        "outputId": "9c326aab-42c5-4a87-f11e-753d1393ec53"
      },
      "outputs": [
        {
          "name": "stdout",
          "output_type": "stream",
          "text": [
            "(12665, 28, 28)\n",
            "(12665,)\n"
          ]
        }
      ],
      "source": [
        "print(X.shape)\n",
        "print(Y.shape)"
      ]
    },
    {
      "cell_type": "code",
      "execution_count": 17,
      "metadata": {
        "colab": {
          "base_uri": "https://localhost:8080/"
        },
        "id": "_RHQ72rltF1A",
        "outputId": "5a7dd0a4-b7ad-4778-88cd-f156a076cbdb"
      },
      "outputs": [
        {
          "name": "stdout",
          "output_type": "stream",
          "text": [
            "[-1  1  1 ...  1 -1  1]\n"
          ]
        }
      ],
      "source": [
        "print(Y)"
      ]
    },
    {
      "cell_type": "code",
      "execution_count": 18,
      "metadata": {
        "id": "zv_E4cettIg7"
      },
      "outputs": [],
      "source": [
        "\n",
        "X_flat = X.reshape(X.shape[0], -1)\n",
        "\n",
        "mean_vec = np.mean(X_flat, axis=0)\n",
        "\n",
        "centered_data = X_flat - mean_vec\n",
        "cov_matrix = np.cov(centered_data, rowvar=False)\n",
        "eigenvalues, eigenvectors = np.linalg.eigh(cov_matrix)\n",
        "sorted_indices = np.argsort(eigenvalues)[::-1]\n",
        "eigenvalues = eigenvalues[sorted_indices]\n",
        "eigenvectors = eigenvectors[:, sorted_indices]\n",
        "p = 5\n",
        "pca_matrix = eigenvectors[:, :p]\n",
        "X_train = np.dot(centered_data, pca_matrix)\n"
      ]
    },
    {
      "cell_type": "code",
      "execution_count": 19,
      "metadata": {
        "colab": {
          "base_uri": "https://localhost:8080/"
        },
        "id": "1GObgo4CtMMa",
        "outputId": "d2e17622-4d67-49e4-df91-f1f5cb7d078c"
      },
      "outputs": [
        {
          "name": "stdout",
          "output_type": "stream",
          "text": [
            "[[-1119.66338805  -321.49791034   402.41141565   219.14716332\n",
            "   -144.27936838]\n",
            " [  883.61589229  -907.38629475  -622.50355094   -94.58850625\n",
            "   -270.5902168 ]\n",
            " [  798.39309385   842.90971227   484.0627968    -16.35519247\n",
            "   -209.62860077]\n",
            " ...\n",
            " [  726.57401035  -652.36435206  -528.07971075  -169.6290383\n",
            "   -748.7172408 ]\n",
            " [ -816.3685892   -679.5585419    625.93484031  1072.03355385\n",
            "   -304.59712958]\n",
            " [  821.88725405  -356.09638457  -491.30448403   -78.84106524\n",
            "   -649.7960371 ]]\n",
            "----------------------------------------------------------------------------------------------------\n",
            "(12665, 5)\n"
          ]
        }
      ],
      "source": [
        "print(X_train)\n",
        "print(\"-\"*100)\n",
        "print(X_train.shape)"
      ]
    },
    {
      "cell_type": "code",
      "execution_count": 20,
      "metadata": {
        "colab": {
          "base_uri": "https://localhost:8080/"
        },
        "id": "Bku_nNdqtNvC",
        "outputId": "f3b9faab-e857-43cb-eaec-b7d64004b767"
      },
      "outputs": [
        {
          "name": "stdout",
          "output_type": "stream",
          "text": [
            "(10665, 5)\n",
            "(10665,)\n",
            "(2000, 5)\n",
            "(2000,)\n"
          ]
        }
      ],
      "source": [
        "val = []\n",
        "val_labels = []\n",
        "cnt = 0\n",
        "cnt1 = 0\n",
        "X_train_filtered = []\n",
        "Y_train_filtered = []\n",
        "\n",
        "for i in range(len(X_train)):\n",
        "    if cnt < 1000 and Y[i] == 1:\n",
        "        val.append(X_train[i])\n",
        "        val_labels.append(Y[i])\n",
        "        cnt += 1\n",
        "    elif cnt1 < 1000 and Y[i] == -1:\n",
        "        val.append(X_train[i])\n",
        "        val_labels.append(Y[i])\n",
        "        cnt1 += 1\n",
        "    else:\n",
        "        X_train_filtered.append(X_train[i])\n",
        "        Y_train_filtered.append(Y[i])\n",
        "\n",
        "\n",
        "X_train_filtered = np.array(X_train_filtered)\n",
        "Y_train_filtered = np.array(Y_train_filtered)\n",
        "val = np.array(val)\n",
        "val_labels = np.array(val_labels)\n",
        "print(X_train_filtered.shape)\n",
        "print(Y_train_filtered.shape)\n",
        "print(val.shape)\n",
        "print(val_labels.shape)"
      ]
    },
    {
      "cell_type": "code",
      "execution_count": 21,
      "metadata": {
        "colab": {
          "base_uri": "https://localhost:8080/"
        },
        "id": "Bx8lc3YbtQE_",
        "outputId": "15482066-b010-411a-ffb1-4988ec935866"
      },
      "outputs": [
        {
          "name": "stdout",
          "output_type": "stream",
          "text": [
            "Best feature: 0\n",
            "Best split: 206.7422994970151\n"
          ]
        }
      ],
      "source": [
        "import numpy as np\n",
        "\n",
        "def find_best_split(X, y):\n",
        "    best_feature = None\n",
        "    best_split = None\n",
        "    min_error = float('inf')\n",
        "    for feature in range(X.shape[1]):\n",
        "        unique_values = np.unique(X[:, feature])\n",
        "        unique_values.sort()\n",
        "        midpoints = (unique_values[:-1] + unique_values[1:]) / 2\n",
        "\n",
        "        for split in midpoints:\n",
        "            left_indices = X[:, feature] <= split\n",
        "            right_indices = X[:, feature] > split\n",
        "\n",
        "            error_left = np.sum(y[left_indices] != -1) / np.sum(left_indices)\n",
        "            error_right = np.sum(y[right_indices] != 1) / np.sum(right_indices)\n",
        "            weighted_error = (np.sum(left_indices) * error_left + np.sum(right_indices) * error_right) / len(y)\n",
        "\n",
        "            if weighted_error < min_error:\n",
        "                min_error = weighted_error\n",
        "                best_feature = feature\n",
        "                best_split = split\n",
        "\n",
        "    return best_feature, best_split\n",
        "\n",
        "best_feature, best_split = find_best_split(X_train_filtered, Y_train_filtered)\n",
        "\n",
        "print(\"Best feature:\", best_feature)\n",
        "print(\"Best split:\", best_split)"
      ]
    },
    {
      "cell_type": "code",
      "execution_count": 22,
      "metadata": {
        "colab": {
          "base_uri": "https://localhost:8080/"
        },
        "id": "kA-teHbZtTEQ",
        "outputId": "45dda3be-f042-4e6c-d8d1-a75fe2b9467b"
      },
      "outputs": [
        {
          "name": "stdout",
          "output_type": "stream",
          "text": [
            "Residue: [ 0.99009743  0.99009743  0.99009743 ...  0.99009743 -0.99008949\n",
            "  0.99009743]\n"
          ]
        }
      ],
      "source": [
        "# Check if best_split is not None and is a float value\n",
        "if isinstance(best_split, float):\n",
        "    best_split_value = best_split\n",
        "\n",
        "    # Predictions based on the best split\n",
        "    predictions = np.where(X_train_filtered[:, best_feature] <= best_split_value, np.mean(Y_train_filtered[X_train_filtered[:, best_feature] <= best_split_value]), np.mean(Y_train_filtered[X_train_filtered[:, best_feature] > best_split_value]))\n",
        "\n",
        "    # Compute residue\n",
        "    residue = Y_train_filtered - 0.01 * predictions\n",
        "\n",
        "    print(\"Residue:\", residue)\n",
        "else:\n",
        "    print(\"No best split found or invalid format.\")\n",
        "\n"
      ]
    },
    {
      "cell_type": "code",
      "execution_count": 23,
      "metadata": {
        "colab": {
          "base_uri": "https://localhost:8080/"
        },
        "id": "Tcz4JqjbuGid",
        "outputId": "9e7199fd-e5ba-41ce-a0d8-7cfa2e5e7c9d"
      },
      "outputs": [
        {
          "name": "stdout",
          "output_type": "stream",
          "text": [
            "Residue: [ 0.98029388  0.98029388  0.98029388 ...  0.98029388 -0.98027808\n",
            "  0.98029388]\n"
          ]
        }
      ],
      "source": [
        "\n",
        "predictions_h1 = np.where(X_train_filtered[:, best_feature] <= best_split_value, np.mean(Y_train_filtered[X_train_filtered[:, best_feature] <= best_split_value]), np.mean(Y_train_filtered[X_train_filtered[:, best_feature] > best_split_value]))\n",
        "negative_gradients_h2 = Y_train_filtered - 0.01 * predictions_h1\n",
        "\n",
        "def find_best_split(X_train, Y_train):\n",
        "    best_split_dim = None\n",
        "    best_split_value = None\n",
        "    min_ssr = float('inf')\n",
        "\n",
        "    for dim in range(X_train.shape[1]):\n",
        "        unique_values = np.unique(X_train[:, dim])\n",
        "        sorted_values = np.sort(unique_values)\n",
        "\n",
        "        for i in range(len(sorted_values) - 1):\n",
        "            split = (sorted_values[i] + sorted_values[i+1]) / 2\n",
        "\n",
        "            left_indices = X_train[:, dim] <= split\n",
        "            right_indices = ~left_indices\n",
        "            left_y = Y_train[left_indices]\n",
        "            right_y = Y_train[right_indices]\n",
        "\n",
        "            left_mean = np.mean(left_y)\n",
        "            right_mean = np.mean(right_y)\n",
        "            left_ssr = np.sum((left_y - left_mean) ** 2)\n",
        "            right_ssr = np.sum((right_y - right_mean) ** 2)\n",
        "            total_ssr = left_ssr + right_ssr\n",
        "\n",
        "            if total_ssr < min_ssr:\n",
        "                min_ssr = total_ssr\n",
        "                best_split_dim = dim\n",
        "                best_split_value = split\n",
        "\n",
        "    return best_split_dim, best_split_value\n",
        "\n",
        "best_split_dim_h2, best_split_value_h2 = find_best_split(X_train_filtered, negative_gradients_h2)\n",
        "\n",
        "predictions_h2 = np.where(X_train_filtered[:, best_split_dim_h2] <= best_split_value_h2, np.mean(negative_gradients_h2[X_train_filtered[:, best_split_dim_h2] <= best_split_value_h2]), np.mean(negative_gradients_h2[X_train_filtered[:, best_split_dim_h2] > best_split_value_h2]))\n",
        "\n",
        "\n",
        "residue = Y_train_filtered - 0.01 * predictions_h1 - 0.01 * predictions_h2\n",
        "\n",
        "print(\"Residue:\", residue)\n"
      ]
    },
    {
      "cell_type": "code",
      "execution_count": 24,
      "metadata": {
        "id": "hZ6aXrw3vcaK"
      },
      "outputs": [],
      "source": [
        "import matplotlib.pyplot as plt\n",
        "\n",
        "mse_values = []\n",
        "test_predictions = []\n",
        "\n",
        "for i in range(300):\n",
        "\n",
        "    negative_gradients = Y_train_filtered - 0.01 * predictions_h1\n",
        "\n",
        "    best_split_dim, best_split_value = find_best_split(X_train_filtered, negative_gradients)\n",
        "\n",
        "    predictions_h2 = np.where(X_train_filtered[:, best_split_dim] <= best_split_value, np.mean(negative_gradients[X_train_filtered[:, best_split_dim] <= best_split_value]), np.mean(negative_gradients[X_train_filtered[:, best_split_dim] > best_split_value]))\n",
        "\n",
        "    residue -= 0.01 * predictions_h2\n",
        "\n",
        "    val_predictions = np.where(val[:, best_split_dim] <= best_split_value, np.mean(negative_gradients[X_train_filtered[:, best_split_dim] <= best_split_value]), np.mean(negative_gradients[X_train_filtered[:, best_split_dim] > best_split_value]))\n",
        "    mse = np.mean((val_labels - val_predictions) ** 2)\n",
        "    mse_values.append(mse)\n",
        "\n",
        "    if mse == min(mse_values):\n",
        "        test_predictions = 0.01 * predictions_h1 + 0.01 * predictions_h2\n",
        "\n",
        "\n",
        "\n"
      ]
    },
    {
      "cell_type": "code",
      "execution_count": 34,
      "metadata": {},
      "outputs": [
        {
          "data": {
            "image/png": "[encoded data removed]",
            "text/plain": [
              "<Figure size 640x480 with 1 Axes>"
            ]
          },
          "metadata": {},
          "output_type": "display_data"
        }
      ],
      "source": [
        "plt.plot(range(1, 301), mse_values)\n",
        "plt.xlabel('Number of Trees')\n",
        "plt.ylabel('MSE on Validation Set')\n",
        "plt.title('MSE vs. Number of Trees')\n",
        "plt.show()\n"
      ]
    },
    {
      "cell_type": "code",
      "execution_count": 35,
      "metadata": {},
      "outputs": [],
      "source": [
        "X_test=file['x_test']\n",
        "Y_test=file['y_test']\n",
        "X = []\n",
        "Y = []\n",
        "for i in range(X_test.shape[0]):\n",
        "    if Y_test[i] == 0:\n",
        "        X.append(X_test[i])\n",
        "        Y.append(-1)\n",
        "    elif Y_test[i]==1:\n",
        "        X.append(X_test[i])\n",
        "        Y.append(Y_test[i])\n",
        "X = np.array(X)\n",
        "Y = np.array(Y)"
      ]
    },
    {
      "cell_type": "code",
      "execution_count": 36,
      "metadata": {},
      "outputs": [
        {
          "name": "stdout",
          "output_type": "stream",
          "text": [
            "(2115, 5)\n"
          ]
        }
      ],
      "source": [
        "\n",
        "X_flat = X.reshape(X.shape[0], -1)\n",
        "best_split\n",
        "mean_vec = np.mean(X_flat, axis=0)\n",
        "\n",
        "centered_data = X_flat - mean_vec\n",
        "cov_matrix = np.cov(centered_data, rowvar=False)\n",
        "eigenvalues, eigenvectors = np.linalg.eigh(cov_matrix)\n",
        "sorted_indices = np.argsort(eigenvalues)[::-1]\n",
        "eigenvalues = eigenvalues[sorted_indices]\n",
        "eigenvectors = eigenvectors[:, sorted_indices]\n",
        "p = 5\n",
        "pca_matrix = eigenvectors[:, :p]\n",
        "X_test= np.dot(centered_data, pca_matrix)\n",
        "print(X_test.shape)\n",
        "\n"
      ]
    },
    {
      "cell_type": "code",
      "execution_count": 37,
      "metadata": {
        "id": "42AMsGSkvc71"
      },
      "outputs": [
        {
          "name": "stdout",
          "output_type": "stream",
          "text": [
            "0.013238770685579196\n"
          ]
        }
      ],
      "source": [
        "pred=[]\n",
        "for i in range(len(Y)):\n",
        "    if X_test[i][0]<best_split:\n",
        "        pred.append(residue_1)\n",
        "    else:\n",
        "        pred.append(residue_2)\n",
        "cnt=0\n",
        "for i in range(len(pred)):\n",
        "\n",
        "    cnt+=(pred[i]-Y[i])**2\n",
        "\n",
        "print(cnt/len(pred))\n"
      ]
    },
    {
      "cell_type": "code",
      "execution_count": null,
      "metadata": {},
      "outputs": [],
      "source": []
    }
  ],
  "metadata": {
    "colab": {
      "provenance": []
    },
    "kernelspec": {
      "display_name": "Python 3",
      "name": "python3"
    },
    "language_info": {
      "codemirror_mode": {
        "name": "ipython",
        "version": 3
      },
      "file_extension": ".py",
      "mimetype": "text/x-python",
      "name": "python",
      "nbconvert_exporter": "python",
      "pygments_lexer": "ipython3",
      "version": "3.11.6"
    }
  },
  "nbformat": 4,
  "nbformat_minor": 0
}
